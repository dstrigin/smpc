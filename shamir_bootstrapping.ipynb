{
 "cells": [
  {
   "cell_type": "code",
   "execution_count": 1,
   "id": "9610bba2-216a-43bc-900f-9b313e6a4574",
   "metadata": {},
   "outputs": [],
   "source": [
    "F = GF(11)\n",
    "F_nonzero = [i for i in F if i != 0]"
   ]
  },
  {
   "cell_type": "code",
   "execution_count": 2,
   "id": "21ef11f0-761e-40f1-ba6e-d095f31b3c6b",
   "metadata": {},
   "outputs": [],
   "source": [
    "P.<x> = F[]"
   ]
  },
  {
   "cell_type": "code",
   "execution_count": 3,
   "id": "68667a2a-dad7-45a7-b713-a0b94d596897",
   "metadata": {},
   "outputs": [],
   "source": [
    "n = 10\n",
    "t = 5"
   ]
  },
  {
   "cell_type": "code",
   "execution_count": 4,
   "id": "14cf5d63-c860-467a-9e3b-2d7966230bde",
   "metadata": {},
   "outputs": [],
   "source": [
    "def share(n, t, secret):\n",
    "    g = choice(F_nonzero)*x^(t-1) + sum([x^i*F.random_element() for i in range(1, t-1)]) + secret\n",
    "    print(g)\n",
    "    points = [g(i) for i in range (1, n+1)]\n",
    "    return points"
   ]
  },
  {
   "cell_type": "code",
   "execution_count": 5,
   "id": "233c5d32-b669-4d17-b736-c2ead5d5db04",
   "metadata": {},
   "outputs": [
    {
     "name": "stdout",
     "output_type": "stream",
     "text": [
      "4*x^4 + 3*x^3 + 6*x^2 + 10*x + 7\n"
     ]
    },
    {
     "data": {
      "text/plain": [
       "[8, 7, 1, 6, 2, 10, 4, 10, 7, 4]"
      ]
     },
     "execution_count": 5,
     "metadata": {},
     "output_type": "execute_result"
    }
   ],
   "source": [
    "shares = share(n, t, 7)\n",
    "shares"
   ]
  },
  {
   "cell_type": "code",
   "execution_count": 6,
   "id": "2e33d058-0a92-4d8a-bf99-eb6b7c07bd42",
   "metadata": {},
   "outputs": [],
   "source": [
    "def reconstruct(parties, shares):\n",
    "    g = P.lagrange_polynomial([(parties[i], shares[i]) for i in range (0, len(parties))])\n",
    "    print(g)\n",
    "    return g(0)"
   ]
  },
  {
   "cell_type": "code",
   "execution_count": 7,
   "id": "ed6c7696-5466-4a3e-9f10-54bc5d07033b",
   "metadata": {},
   "outputs": [
    {
     "name": "stdout",
     "output_type": "stream",
     "text": [
      "4*x^4 + 3*x^3 + 6*x^2 + 10*x + 7\n"
     ]
    },
    {
     "data": {
      "text/plain": [
       "7"
      ]
     },
     "execution_count": 7,
     "metadata": {},
     "output_type": "execute_result"
    }
   ],
   "source": [
    "reconstruct([*range(1,6)], shares[:5])"
   ]
  },
  {
   "cell_type": "code",
   "execution_count": 8,
   "id": "de20db9d-c595-4c37-9a4c-ae125e72e37d",
   "metadata": {},
   "outputs": [],
   "source": [
    "secrets = [2, 2, 3, 3, 0, 0, 0, 0, 0, 0]"
   ]
  },
  {
   "cell_type": "code",
   "execution_count": 9,
   "id": "b96ad72b-1b32-4ea7-b289-beb2501239c5",
   "metadata": {},
   "outputs": [
    {
     "name": "stdout",
     "output_type": "stream",
     "text": [
      "8*x^4 + 5*x^3 + 2*x^2 + 2*x + 2\n",
      "10*x^4 + x^2 + 9*x + 2\n",
      "6*x^4 + 5*x^3 + 8*x^2 + 4*x + 3\n",
      "10*x^4 + 7*x^3 + 9*x^2 + 6*x + 3\n",
      "10*x^4 + 4*x^3 + 9*x^2 + 3*x\n",
      "9*x^4 + 4*x^3 + 2*x^2 + 8*x\n",
      "2*x^4 + 9*x^3 + 7*x^2 + 9*x\n",
      "10*x^4 + 3*x^3 + 9*x^2 + 2*x\n",
      "8*x^4 + 3*x^3 + 3*x^2 + 6*x\n",
      "7*x^4 + 8*x^3 + 4*x^2 + x\n"
     ]
    },
    {
     "data": {
      "text/plain": [
       "[[8, 6, 6, 1, 0, 6, 5, 10, 6, 5],\n",
       " [0, 8, 1, 7, 8, 6, 1, 2, 5, 4],\n",
       " [4, 3, 4, 1, 0, 8, 0, 7, 6, 8],\n",
       " [2, 3, 1, 0, 2, 7, 2, 5, 10, 9],\n",
       " [4, 3, 7, 2, 5, 9, 5, 4, 4, 1],\n",
       " [1, 2, 10, 6, 0, 9, 2, 10, 5, 10],\n",
       " [5, 7, 0, 4, 10, 2, 1, 10, 3, 2],\n",
       " [2, 4, 10, 0, 7, 7, 7, 1, 3, 3],\n",
       " [9, 0, 4, 2, 2, 6, 10, 4, 5, 2],\n",
       " [9, 7, 8, 7, 2, 5, 9, 10, 7, 2]]"
      ]
     },
     "execution_count": 9,
     "metadata": {},
     "output_type": "execute_result"
    }
   ],
   "source": [
    "Shares = [share(n, t, secrets[i]) for i in range(n)]\n",
    "Shares"
   ]
  },
  {
   "cell_type": "code",
   "execution_count": 10,
   "id": "abbeb09e-7984-40aa-bbc5-4ecf0bf5cd77",
   "metadata": {},
   "outputs": [],
   "source": [
    "def beta(i, y_i):\n",
    "    return prod([-F(j) / F(i - j) if j != i else 1 for j in range(1, n+1)]) * F(y_i)"
   ]
  },
  {
   "cell_type": "code",
   "execution_count": 11,
   "id": "bf91b412-9757-4400-bc89-a4dcfae2b2a7",
   "metadata": {},
   "outputs": [
    {
     "data": {
      "text/plain": [
       "(0, 4, 6, 7, 0, 3, 5, 9, 8, 9)"
      ]
     },
     "execution_count": 11,
     "metadata": {},
     "output_type": "execute_result"
    }
   ],
   "source": [
    "x1x2 = vector(Shares[0]).pairwise_product(vector(Shares[1]))\n",
    "x1x2"
   ]
  },
  {
   "cell_type": "code",
   "execution_count": 12,
   "id": "8bc83d3c-35d3-4f29-82d8-5e94a392c8e8",
   "metadata": {},
   "outputs": [
    {
     "data": {
      "text/plain": [
       "[0, 7, 5, 4, 0, 8, 6, 2, 3, 2]"
      ]
     },
     "execution_count": 12,
     "metadata": {},
     "output_type": "execute_result"
    }
   ],
   "source": [
    "#x1x2_beta = [beta(i, x1x2[i - 1]) for i in range (1, 2*t)]\n",
    "x1x2_beta = [beta(i, x1x2[i - 1]) for i in range(1, n+1)]\n",
    "x1x2_beta"
   ]
  },
  {
   "cell_type": "code",
   "execution_count": 13,
   "id": "5e0495d2-99f2-40ee-bd16-337d153b4998",
   "metadata": {},
   "outputs": [
    {
     "name": "stdout",
     "output_type": "stream",
     "text": [
      "5*x^4 + 4*x^3 + x^2 + 10*x\n",
      "5*x^4 + 10*x^3 + 9*x^2 + 5*x + 7\n",
      "5*x^4 + 5*x^3 + 2*x^2 + 5*x + 5\n",
      "8*x^4 + 9*x^3 + 6*x^2 + 10*x + 4\n",
      "3*x^4 + 2*x^3 + 10*x^2 + 8*x\n",
      "5*x^4 + 3*x^3 + 5*x^2 + x + 8\n",
      "8*x^4 + 8*x^3 + 4*x^2 + x + 6\n",
      "8*x^4 + 5*x^3 + 10*x^2 + 9*x + 2\n",
      "7*x^4 + 3*x^3 + 10*x^2 + 9*x + 3\n",
      "7*x^4 + 4*x^3 + 8*x^2 + 7*x + 2\n"
     ]
    },
    {
     "data": {
      "text/plain": [
       "[ 9  4  2  8  4  4 10  1 10  3]\n",
       "[ 3  4  8  1  1  3  1 10  0  6]\n",
       "[ 0  0  6  7  2  0  9  3 10  2]\n",
       "[ 4  6  0  3  4  8  3  4  9 10]\n",
       "[ 1 10  4 10  6  9  9  2  1  3]\n",
       "[ 0  2  3  2  8  7  6  0  5  3]\n",
       "[ 5  7  7  5  6  9  7  9  7  9]\n",
       "[ 1  8  0  3  4  6  6  6  2  6]\n",
       "[10 10  9  5 10  6  0  2  3  8]\n",
       "[ 6  5  0  6  8  5 10  6  1  6]"
      ]
     },
     "execution_count": 13,
     "metadata": {},
     "output_type": "execute_result"
    }
   ],
   "source": [
    "x1x2_shares = matrix([share(n, t, x1x2_beta[i-1]) for i in range (1, n+1)])\n",
    "x1x2_shares"
   ]
  },
  {
   "cell_type": "code",
   "execution_count": 14,
   "id": "3e628d4c-5200-4876-b182-4e421111ad15",
   "metadata": {},
   "outputs": [
    {
     "data": {
      "text/plain": [
       "[6, 1, 6, 6, 9, 2, 6, 10, 4, 1]"
      ]
     },
     "execution_count": 14,
     "metadata": {},
     "output_type": "execute_result"
    }
   ],
   "source": [
    "x1x2_final = [\n",
    "    sum(\n",
    "        [x1x2_shares[i, j] for i in range (0, n)]\n",
    "    ) for j in range (0, n)\n",
    "]\n",
    "x1x2_final"
   ]
  },
  {
   "cell_type": "code",
   "execution_count": 15,
   "id": "ec426afb-4f88-49ec-9fa8-18b11b747b04",
   "metadata": {},
   "outputs": [
    {
     "name": "stdout",
     "output_type": "stream",
     "text": [
      "6*x^4 + 9*x^3 + 10*x^2 + 10*x + 4\n"
     ]
    },
    {
     "data": {
      "text/plain": [
       "4"
      ]
     },
     "execution_count": 15,
     "metadata": {},
     "output_type": "execute_result"
    }
   ],
   "source": [
    "reconstruct([*range(1,6)], x1x2_final[:5])"
   ]
  },
  {
   "cell_type": "code",
   "execution_count": 16,
   "id": "ec53bfba-8252-4ef6-989c-b92827c70881",
   "metadata": {},
   "outputs": [
    {
     "data": {
      "text/plain": [
       "(2, 3, 2, 6, 0, 5, 0, 4, 2, 8)"
      ]
     },
     "execution_count": 16,
     "metadata": {},
     "output_type": "execute_result"
    }
   ],
   "source": [
    "y_i = vector(x1x2_final).pairwise_product(vector(Shares[2]))\n",
    "y_i"
   ]
  },
  {
   "cell_type": "code",
   "execution_count": 17,
   "id": "9c19097a-9c8f-413a-b29f-fa204cc18f1a",
   "metadata": {},
   "outputs": [
    {
     "data": {
      "text/plain": [
       "[9, 8, 9, 5, 0, 6, 0, 7, 9, 3]"
      ]
     },
     "execution_count": 17,
     "metadata": {},
     "output_type": "execute_result"
    }
   ],
   "source": [
    "beta_x1x2x3 = [beta(i, y_i[i - 1]) for i in range(1, n+1)]\n",
    "beta_x1x2x3"
   ]
  },
  {
   "cell_type": "code",
   "execution_count": 18,
   "id": "3a0f73da-abfe-4585-a73e-b9591304f37d",
   "metadata": {},
   "outputs": [
    {
     "name": "stdout",
     "output_type": "stream",
     "text": [
      "x^4 + 3*x^3 + 10*x^2 + x + 9\n",
      "6*x^4 + 4*x^3 + x^2 + 6*x + 8\n",
      "7*x^4 + 8*x^3 + 8*x^2 + 9*x + 9\n",
      "4*x^4 + 7*x^3 + 10*x^2 + 5\n",
      "2*x^4 + x^2 + x\n",
      "9*x^4 + 2*x^3 + 4*x^2 + 9*x + 6\n",
      "9*x^4 + 10*x^3 + 4*x^2 + 3*x\n",
      "3*x^4 + 9*x^3 + 5*x^2 + 3*x + 7\n",
      "7*x^4 + 4*x^3 + 10*x^2 + 5*x + 9\n",
      "4*x^4 + x^3 + 7*x^2 + 10*x + 3\n"
     ]
    },
    {
     "data": {
      "text/plain": [
       "[ 2  3  0  5 10  9  9  8  6  5]\n",
       "[ 3  9  2  3  1  8  4  3  9  5]\n",
       "[ 8  4  0  2  8  8  6  9  5  7]\n",
       "[ 4  0  3  9  0 10  4 10  9  1]\n",
       "[ 4  5  9  4  4  5  7  3  1  2]\n",
       "[ 8  2  5  8  9  2 10  8  0  8]\n",
       "[ 4  4 10  6  5  5  0  2  8  0]\n",
       "[ 5 10  8  2  1  9  3 10  8  3]\n",
       "[ 2  5  8  4  0  6  2  4  9  6]\n",
       "[ 3  2  7  0  4  6  1  3  1  3]"
      ]
     },
     "execution_count": 18,
     "metadata": {},
     "output_type": "execute_result"
    }
   ],
   "source": [
    "share_x1x2x3 = matrix([share(n, t, beta_x1x2x3[i-1]) for i in range (1, n+1)])\n",
    "share_x1x2x3"
   ]
  },
  {
   "cell_type": "code",
   "execution_count": 19,
   "id": "b112efae-fbcf-4b96-a556-20b009f9bcac",
   "metadata": {},
   "outputs": [
    {
     "data": {
      "text/plain": [
       "[10, 0, 8, 10, 9, 2, 2, 5, 1, 7]"
      ]
     },
     "execution_count": 19,
     "metadata": {},
     "output_type": "execute_result"
    }
   ],
   "source": [
    "x1x2x3_shares = [\n",
    "    sum(\n",
    "        [share_x1x2x3[i, j] for i in range (0, n)]\n",
    "    ) for j in range (0, n)\n",
    "]\n",
    "x1x2x3_shares"
   ]
  },
  {
   "cell_type": "code",
   "execution_count": 20,
   "id": "08552ce8-2a50-432b-8659-253f88e6039a",
   "metadata": {},
   "outputs": [
    {
     "name": "stdout",
     "output_type": "stream",
     "text": [
      "8*x^4 + 4*x^3 + 5*x^2 + 3*x + 1\n"
     ]
    },
    {
     "data": {
      "text/plain": [
       "1"
      ]
     },
     "execution_count": 20,
     "metadata": {},
     "output_type": "execute_result"
    }
   ],
   "source": [
    "reconstruct([*range(1,6)], x1x2x3_shares[:5])"
   ]
  },
  {
   "cell_type": "code",
   "execution_count": 21,
   "id": "59b8f142-fdc7-4d59-8a7c-85b5fde945f9",
   "metadata": {},
   "outputs": [
    {
     "data": {
      "text/plain": [
       "(1, 3, 9, 10, 0, 9, 4, 10, 0, 5)"
      ]
     },
     "execution_count": 21,
     "metadata": {},
     "output_type": "execute_result"
    }
   ],
   "source": [
    "res_shares = vector(x1x2x3_shares) + vector(Shares[3])\n",
    "res_shares"
   ]
  },
  {
   "cell_type": "code",
   "execution_count": 22,
   "id": "979d5ef6-fa59-4af2-95dc-36ce3ca0e484",
   "metadata": {},
   "outputs": [
    {
     "name": "stdout",
     "output_type": "stream",
     "text": [
      "7*x^4 + 3*x^2 + 9*x + 4\n"
     ]
    },
    {
     "data": {
      "text/plain": [
       "4"
      ]
     },
     "execution_count": 22,
     "metadata": {},
     "output_type": "execute_result"
    }
   ],
   "source": [
    "reconstruct([*range(1,6)], res_shares[:5])"
   ]
  }
 ],
 "metadata": {
  "kernelspec": {
   "display_name": "SageMath 10.5.beta7",
   "language": "sage",
   "name": "sagemath-dev"
  },
  "language_info": {
   "codemirror_mode": {
    "name": "ipython",
    "version": 3
   },
   "file_extension": ".py",
   "mimetype": "text/x-python",
   "name": "python",
   "nbconvert_exporter": "python",
   "pygments_lexer": "ipython3",
   "version": "3.12.3"
  }
 },
 "nbformat": 4,
 "nbformat_minor": 5
}
