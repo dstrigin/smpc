{
 "cells": [
  {
   "cell_type": "code",
   "execution_count": 61,
   "id": "db6445f3-5989-47e6-929e-afd91bc2a91c",
   "metadata": {},
   "outputs": [],
   "source": [
    "q = 23\n",
    "F = GF(q)\n",
    "F_odd = [F(i) for i in range(q) if i % 2 != 0]\n",
    "F_even = [F(i) for i in range(q) if i % 2 == 0]\n",
    " \n",
    "def gen_root_mod(seed):\n",
    "    v = hashlib.sha3_256(seed).digest()\n",
    "    t = F(hashlib.sha3_256(seed + 'flag'.encode()).digest()[0]) \n",
    "    \n",
    "    return v, t"
   ]
  },
  {
   "cell_type": "code",
   "execution_count": 123,
   "id": "123d4b0a-90ff-490a-8848-42500536b61f",
   "metadata": {},
   "outputs": [
    {
     "name": "stdout",
     "output_type": "stream",
     "text": [
      "coord:  27\n",
      "target:  16\n"
     ]
    }
   ],
   "source": [
    "depth = 5\n",
    "N = 2**depth\n",
    "coord = randint(0, N-1)\n",
    "target = F.random_element()\n",
    "print('coord: ', coord)\n",
    "print('target: ', target)"
   ]
  },
  {
   "cell_type": "code",
   "execution_count": 124,
   "id": "c9901364-20c1-449f-acef-36640166cce5",
   "metadata": {},
   "outputs": [
    {
     "data": {
      "text/plain": [
       "[1, 1, 0, 1, 1]"
      ]
     },
     "execution_count": 124,
     "metadata": {},
     "output_type": "execute_result"
    }
   ],
   "source": [
    "def path(num, d=depth):\n",
    "    \"\"\"\n",
    "    Convert an integer to a binary array using bit manipulation.\n",
    "    \n",
    "    Args:\n",
    "        num (int): The input integer (must be ≥ 0).\n",
    "        d (int): The desired length of the binary array.\n",
    "    \n",
    "    Returns:\n",
    "        list: Binary array (e.g., 5 with d=4 → `[0, 1, 0, 1]`).\n",
    "    \"\"\"\n",
    "    if num < 0:\n",
    "        raise ValueError(\"Input must be non-negative\")\n",
    "    if d < 0:\n",
    "        raise ValueError(\"Length must be positive\")\n",
    "    if num >= (1 << d):  # Check if number is too large for d bits\n",
    "        raise ValueError(f\"{num} requires more than {d} bits\")\n",
    "    \n",
    "    return [(num >> (d - 1 - i)) & 1 for i in range(d)]\n",
    "\n",
    "p = path(coord, d=depth)\n",
    "p"
   ]
  },
  {
   "cell_type": "code",
   "execution_count": 125,
   "id": "3f6cccf4-189c-49ac-8a4d-29cfe8bbb9b1",
   "metadata": {},
   "outputs": [],
   "source": [
    "import hashlib\n",
    "\n",
    "def gen_descendants_mod(v, t, cw):\n",
    "    v_left = hashlib.sha3_256(v + 'l1'.encode()).digest()\n",
    "    t_left = F(hashlib.sha3_256(v + 'l2'.encode()).digest()[0])\n",
    "\n",
    "    v_right = hashlib.sha3_256(v + 'r1'.encode()).digest()\n",
    "    t_right = F(hashlib.sha3_256(v + 'r2'.encode()).digest()[0])\n",
    "\n",
    "    if Integer(t) % 2 != 0:\n",
    "    #if False:\n",
    "        v_left = bytes([v_left[i] ^^ cw[0][i] for i in range(32)])\n",
    "        t_left = F(t_left + cw[1])\n",
    "        \n",
    "        v_right = bytes([v_right[i] ^^ cw[2][i] for i in range(32)])\n",
    "        t_right = F(t_right + cw[3])\n",
    "\n",
    "    #print('gen_descendants: ', t_left, t_right)\n",
    "    return v_left, t_left, v_right, t_right"
   ]
  },
  {
   "cell_type": "code",
   "execution_count": 131,
   "id": "ee2db24e-52e9-4921-97ec-10b58ee930d3",
   "metadata": {},
   "outputs": [],
   "source": [
    "def find_cw_at_ith_level_mod(i, v_a_i, t_a_i, v_b_i, t_b_i, p, last=False, val=None):\n",
    "    v_a1_left, t_a1_left, v_a1_right, t_a1_right = gen_descendants_mod(v_a_i, F(0), [])\n",
    "    v_b1_left, t_b1_left, v_b1_right, t_b1_right = gen_descendants_mod(v_b_i, F(0), [])\n",
    "    \n",
    "    if p[i] == 0:\n",
    "        fl1 = Integer(t_a1_left) % 2 == 0\n",
    "        fl2 = Integer(t_b1_left) % 2 == 0\n",
    "        \n",
    "        # will be added to left descendants\n",
    "        cw0 = bytes([0]*32)\n",
    "        if last:\n",
    "            if Integer(t_a_i) % 2 != 0:\n",
    "                cw1 = cw1 = F(val + t_b1_left - t_a1_left) \n",
    "                \n",
    "                cw3 = F(-t_a1_right + t_b1_right) \n",
    "            elif Integer(t_b_i) % 2 != 0:\n",
    "                cw1 = F(val - t_b1_left + t_a1_left)\n",
    "                \n",
    "                cw3 = F(-t_b1_right + t_a1_right) \n",
    "                \n",
    "        elif Integer(t_a_i) % 2 != 0:\n",
    "            w = choice(F_odd) if fl2 else choice(F_even)\n",
    "            cw1 = w - t_a1_left\n",
    "\n",
    "            cw3 = F(-t_a1_right + t_b1_right)\n",
    "        elif Integer(t_b_i) % 2 != 0:\n",
    "            w = choice(F_odd) if fl1 else choice(F_even)\n",
    "            cw1 = w - t_b1_left  \n",
    "\n",
    "            cw3 = F(-t_b1_right + t_a1_right)\n",
    "            \n",
    "        # will be added to right descendants\n",
    "        cw2 = bytes([v_a1_right[i] ^^ v_b1_right[i] for i in range(32)])\n",
    "        #cw3 = F(-t_b1_right - t_a1_right)\n",
    "    \n",
    "    if p[i] == 1:\n",
    "        fl1 = Integer(t_a1_right) % 2 == 0\n",
    "        fl2 = Integer(t_b1_right) % 2 == 0\n",
    "        \n",
    "        # will be added to left descendants\n",
    "        cw0 = bytes([v_a1_left[i] ^^ v_b1_left[i] for i in range(32)])\n",
    "        #cw1 = F(t_b1_left + t_a1_left)\n",
    "    \n",
    "        # will be added to right descendants\n",
    "        cw2 = bytes([0]*32) \n",
    "\n",
    "        if last:\n",
    "            if Integer(t_a_i) % 2 != 0:\n",
    "                cw1 = F(-t_a1_left + t_b1_left) \n",
    "                \n",
    "                cw3 = F(val + t_b1_right - t_a1_right)    \n",
    "            elif Integer(t_b_i) % 2 != 0:\n",
    "                cw1 = F(-t_b1_left + t_a1_left) \n",
    "                \n",
    "                cw3 = F(val - t_b1_right + t_a1_right)    \n",
    "                \n",
    "        elif Integer(t_a_i) % 2 != 0:\n",
    "            cw1 = F(-t_a1_left + t_b1_left)\n",
    "            \n",
    "            w = choice(F_odd) if fl2 else choice(F_even)\n",
    "            cw3 = w - t_a1_right\n",
    "        elif Integer(t_b_i) % 2 != 0:\n",
    "            cw1 = F(-t_b1_left + t_a1_left)\n",
    "            \n",
    "            w = choice(F_odd) if fl1 else choice(F_even)\n",
    "            cw3 = w - t_b1_right  \n",
    "    \n",
    "    return [cw0, cw1, cw2, cw3]\n",
    "    #return [cw0, F(1), cw2, F(1)]"
   ]
  },
  {
   "cell_type": "code",
   "execution_count": 132,
   "id": "20fb0bd6-fd7e-4327-ab3e-0cab300d03b3",
   "metadata": {},
   "outputs": [
    {
     "name": "stdout",
     "output_type": "stream",
     "text": [
      "0 19\n"
     ]
    }
   ],
   "source": [
    "import secrets\n",
    "\n",
    "seed_a = secrets.token_bytes(32)\n",
    "v_a, t_a = gen_root_mod(seed_a)\n",
    "\n",
    "seed_b = secrets.token_bytes(32)\n",
    "v_b, t_b = gen_root_mod(seed_b)\n",
    "\n",
    "while Integer(t_a) % 2 == Integer(t_b) % 2:\n",
    "    seed_b = secrets.token_bytes(32)\n",
    "    v_b, t_b = gen_root_mod(seed_b) \n",
    "\n",
    "print(t_a, t_b)\n",
    "\n",
    "CW_mod = []\n",
    "\n",
    "for i in range(depth):\n",
    "    last = (i == depth - 1)\n",
    "    cw = find_cw_at_ith_level_mod(i, v_a, t_a, v_b, t_b, p, last=last, val=target)\n",
    "    CW_mod.append(cw)\n",
    "\n",
    "    v_a_left_, t_a_left_, v_a_right_, t_a_right_ = gen_descendants_mod(v_a, t_a, cw)\n",
    "    v_b_left_, t_b_left_, v_b_right_, t_b_right_ = gen_descendants_mod(v_b, t_b, cw)\n",
    "    \n",
    "    if p[i] == 0:\n",
    "        v_a, t_a, v_b, t_b = v_a_left_, t_a_left_, v_b_left_, t_b_left_\n",
    "    else:\n",
    "        v_a, t_a, v_b, t_b = v_a_right_, t_a_right_, v_b_right_, t_b_right_"
   ]
  },
  {
   "cell_type": "code",
   "execution_count": 133,
   "id": "c1806b1d-6586-4878-924b-8ba93c9849b0",
   "metadata": {},
   "outputs": [],
   "source": [
    "def compute_at_i_mod(seed, CW, i, depth=depth):\n",
    "    v, t = gen_root_mod(seed)\n",
    "    p = path(i, d=depth)\n",
    "    \n",
    "    for j in range(depth):\n",
    "        v_left_, t_left_, v_right_, t_right_ = gen_descendants_mod(v, t, CW[j])\n",
    "        #print('compute_at_i: ', t_left_, t_right_)\n",
    "        if p[j] == 0:\n",
    "            v, t = v_left_, t_left_\n",
    "        else:\n",
    "            v, t = v_right_, t_right_\n",
    "\n",
    "    return t"
   ]
  },
  {
   "cell_type": "code",
   "execution_count": 135,
   "id": "b0ef3533-7594-4ccd-9ca4-dc5ab8dcf907",
   "metadata": {},
   "outputs": [
    {
     "name": "stdout",
     "output_type": "stream",
     "text": [
      "[1, 1, 0, 1, 1]\n",
      "3 9\n",
      "22 12\n",
      "12 1\n",
      "21 4\n",
      "13 20\n",
      "[0]\n",
      "[17, 3]\n",
      "[11, 15, 18, 5]\n",
      "[6, 0, 0, 3, 5, 1, 17, 18]\n",
      "[2, 0, 12, 3, 10, 5, 10, 10, 5, 14, 4, 20, 6, 13, 1, 1]\n",
      "[0, 18, 5, 22, 4, 11, 15, 14, 15, 8, 21, 5, 13, 4, 2, 2, 7, 21, 4, 13, 19, 10, 7, 2, 9, 19, 13, 17, 7, 4, 11, 6]\n",
      "##########################\n",
      "[19]\n",
      "[17, 4]\n",
      "[11, 15, 18, 12]\n",
      "[6, 0, 0, 3, 5, 1, 12, 18]\n",
      "[2, 0, 12, 3, 10, 5, 10, 10, 5, 14, 4, 20, 6, 14, 1, 1]\n",
      "[0, 18, 5, 22, 4, 11, 15, 14, 15, 8, 21, 5, 13, 4, 2, 2, 7, 21, 4, 13, 19, 10, 7, 2, 9, 19, 13, 1, 7, 4, 11, 6]\n",
      "##########################\n",
      "[4]\n",
      "[0, 22]\n",
      "[0, 0, 0, 16]\n",
      "[0, 0, 0, 0, 0, 0, 5, 0]\n",
      "[0, 0, 0, 0, 0, 0, 0, 0, 0, 0, 0, 0, 0, 22, 0, 0]\n",
      "[0, 0, 0, 0, 0, 0, 0, 0, 0, 0, 0, 0, 0, 0, 0, 0, 0, 0, 0, 0, 0, 0, 0, 0, 0, 0, 0, 16, 0, 0, 0, 0]\n"
     ]
    }
   ],
   "source": [
    "print(p)\n",
    "\n",
    "for i in CW_mod:\n",
    "    print(i[1], i[3])\n",
    "\n",
    "for i in range(depth+1):\n",
    "    l = []\n",
    "    for j in range(2**i):\n",
    "        l.append(compute_at_i_mod(seed_a, CW_mod, j, i))\n",
    "    print(l)\n",
    "\n",
    "print('##########################')\n",
    "\n",
    "for i in range(depth+1):\n",
    "    l = []\n",
    "    for j in range(2**i):\n",
    "        l.append(compute_at_i_mod(seed_b, CW_mod, j, i))\n",
    "    print(l)\n",
    "\n",
    "print('##########################')\n",
    "for i in range(depth+1):\n",
    "    l = []\n",
    "    for j in range(2**i):\n",
    "        l.append(compute_at_i_mod(seed_a, CW_mod, j, i) - compute_at_i_mod(seed_b, CW_mod, j, i))\n",
    "    print(l)"
   ]
  },
  {
   "cell_type": "code",
   "execution_count": 137,
   "id": "9509900f-5350-42a6-a93e-a9db67cb6d76",
   "metadata": {},
   "outputs": [
    {
     "name": "stdout",
     "output_type": "stream",
     "text": [
      "i\ta\tb\tF(a + b)\n",
      "0\t0\t0\t0\n",
      "1\t18\t18\t0\n",
      "2\t5\t5\t0\n",
      "3\t22\t22\t0\n",
      "4\t4\t4\t0\n",
      "5\t11\t11\t0\n",
      "6\t15\t15\t0\n",
      "7\t14\t14\t0\n",
      "8\t15\t15\t0\n",
      "9\t8\t8\t0\n",
      "10\t21\t21\t0\n",
      "11\t5\t5\t0\n",
      "12\t13\t13\t0\n",
      "13\t4\t4\t0\n",
      "14\t2\t2\t0\n",
      "15\t2\t2\t0\n",
      "16\t7\t7\t0\n",
      "17\t21\t21\t0\n",
      "18\t4\t4\t0\n",
      "19\t13\t13\t0\n",
      "20\t19\t19\t0\n",
      "21\t10\t10\t0\n",
      "22\t7\t7\t0\n",
      "23\t2\t2\t0\n",
      "24\t9\t9\t0\n",
      "25\t19\t19\t0\n",
      "26\t13\t13\t0\n",
      "27\t17\t1\t16\n",
      "28\t7\t7\t0\n",
      "29\t4\t4\t0\n",
      "30\t11\t11\t0\n",
      "31\t6\t6\t0\n"
     ]
    }
   ],
   "source": [
    "print(f'i\\ta\\tb\\tF(a + b)')\n",
    "for i in range(N):\n",
    "    a = compute_at_i_mod(seed_a, CW_mod, i)\n",
    "    b = compute_at_i_mod(seed_b, CW_mod, i)\n",
    "    print(f'{i}\\t{a}\\t{b}\\t{F(a - b)}')"
   ]
  }
 ],
 "metadata": {
  "kernelspec": {
   "display_name": "SageMath 10.5.beta7",
   "language": "sage",
   "name": "sagemath-dev"
  },
  "language_info": {
   "codemirror_mode": {
    "name": "ipython",
    "version": 3
   },
   "file_extension": ".py",
   "mimetype": "text/x-python",
   "name": "python",
   "nbconvert_exporter": "python",
   "pygments_lexer": "ipython3",
   "version": "3.12.3"
  }
 },
 "nbformat": 4,
 "nbformat_minor": 5
}
