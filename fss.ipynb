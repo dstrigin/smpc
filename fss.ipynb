{
 "cells": [
  {
   "cell_type": "code",
   "execution_count": 4,
   "id": "fbb67334-4cb3-4923-8ffc-0dc77180099d",
   "metadata": {},
   "outputs": [],
   "source": [
    "import hashlib\n",
    "\n",
    "def gen_root(seed):\n",
    "    v_a = hashlib.sha3_256(seed).digest()\n",
    "    t_a = hashlib.sha3_256(seed + 'flag'.encode()).digest()[0] % 2\n",
    "    \n",
    "    return v_a, t_a"
   ]
  },
  {
   "cell_type": "code",
   "execution_count": 5,
   "id": "f72a32ce-0be2-4a99-aa04-4cf8a1b20d58",
   "metadata": {},
   "outputs": [
    {
     "data": {
      "text/plain": [
       "'59df11da56f507dec1bad6533d2a6747d392ede94caa72918ab959c15a11450c'"
      ]
     },
     "execution_count": 5,
     "metadata": {},
     "output_type": "execute_result"
    }
   ],
   "source": [
    "hashlib.sha3_256('12345'.encode() + 'hello'.encode()).hexdigest()"
   ]
  },
  {
   "cell_type": "code",
   "execution_count": 6,
   "id": "0082a4fb-e92e-42d1-85a0-66d70ba4f278",
   "metadata": {},
   "outputs": [
    {
     "data": {
      "text/plain": [
       "(b'}N>\\xec\\x80\\x02g\\x19c\\x9e\\xd4\\xdb\\xa6\\x89\\x16\\xeb\\x94\\xc7\\xa4\\x9a\\x05>\\x05\\xc8\\xf9W\\x8f\\xe4\\xe5\\xa3\\xd7\\xea',\n",
       " 1)"
      ]
     },
     "execution_count": 6,
     "metadata": {},
     "output_type": "execute_result"
    }
   ],
   "source": [
    "gen_root('12345'.encode())"
   ]
  },
  {
   "cell_type": "code",
   "execution_count": 7,
   "id": "1ea0c05f-dd8f-46f0-9755-b060ba8987f5",
   "metadata": {},
   "outputs": [
    {
     "data": {
      "text/plain": [
       "18"
      ]
     },
     "execution_count": 7,
     "metadata": {},
     "output_type": "execute_result"
    }
   ],
   "source": [
    "depth = 5\n",
    "N = 2**depth\n",
    "coord = randint(0, N)\n",
    "coord"
   ]
  },
  {
   "cell_type": "code",
   "execution_count": 8,
   "id": "1dc350cd-f964-4cd9-a73f-b95ed5835ebd",
   "metadata": {},
   "outputs": [],
   "source": [
    "def path(num, d=depth):\n",
    "    \"\"\"\n",
    "    Convert an integer to a binary array using bit manipulation.\n",
    "    \n",
    "    Args:\n",
    "        num (int): The input integer (must be ≥ 0).\n",
    "        d (int): The desired length of the binary array.\n",
    "    \n",
    "    Returns:\n",
    "        list: Binary array (e.g., 5 with d=4 → `[0, 1, 0, 1]`).\n",
    "    \"\"\"\n",
    "    if num < 0:\n",
    "        raise ValueError(\"Input must be non-negative\")\n",
    "    if d < 0:\n",
    "        raise ValueError(\"Length must be positive\")\n",
    "    if num >= (1 << d):  # Check if number is too large for d bits\n",
    "        raise ValueError(f\"{num} requires more than {d} bits\")\n",
    "    \n",
    "    return [(num >> (d - 1 - i)) & 1 for i in range(d)]"
   ]
  },
  {
   "cell_type": "code",
   "execution_count": 9,
   "id": "9bc1801d-328e-4c4d-ae04-982503b6341c",
   "metadata": {},
   "outputs": [
    {
     "data": {
      "text/plain": [
       "[1, 0, 0, 1, 0]"
      ]
     },
     "execution_count": 9,
     "metadata": {},
     "output_type": "execute_result"
    }
   ],
   "source": [
    "p = path(coord)\n",
    "p"
   ]
  },
  {
   "cell_type": "code",
   "execution_count": 10,
   "id": "3cc8fe2c-dcd5-47b1-978e-5b67c32c5920",
   "metadata": {},
   "outputs": [],
   "source": [
    "# level_0\n",
    "import secrets\n",
    "\n",
    "seed_a = secrets.token_bytes(32)\n",
    "v_a1, t_a1 = gen_root(seed_a)\n",
    "\n",
    "seed_b = secrets.token_bytes(32)\n",
    "v_b1, t_b1 = gen_root(seed_b)"
   ]
  },
  {
   "cell_type": "code",
   "execution_count": 11,
   "id": "39963d07-811f-4bd0-b08c-4a9d99879c91",
   "metadata": {},
   "outputs": [
    {
     "name": "stdout",
     "output_type": "stream",
     "text": [
      "1 0\n"
     ]
    }
   ],
   "source": [
    "print(t_a1, t_b1)"
   ]
  },
  {
   "cell_type": "code",
   "execution_count": 12,
   "id": "7f7e15a6-b693-44f0-899c-7e5801717ae7",
   "metadata": {},
   "outputs": [],
   "source": [
    "def gen_descendants(v, t, cw):\n",
    "    v_left = hashlib.sha3_256(v + 'l1'.encode()).digest()\n",
    "    t_left = hashlib.sha3_256(v + 'l2'.encode()).digest()[0] % 2\n",
    "\n",
    "    v_right = hashlib.sha3_256(v + 'r1'.encode()).digest()\n",
    "    t_right = hashlib.sha3_256(v + 'r2'.encode()).digest()[0] % 2\n",
    "\n",
    "    if t==1:\n",
    "        v_left = bytes([v_left[i] ^^ cw[0][i] for i in range(32)])\n",
    "        t_left ^^= cw[1]\n",
    "        \n",
    "        v_right = bytes([v_right[i] ^^ cw[2][i] for i in range(32)])\n",
    "        t_right ^^= cw[3]\n",
    "\n",
    "    return v_left, t_left, v_right, t_right"
   ]
  },
  {
   "cell_type": "code",
   "execution_count": 13,
   "id": "cbd7f7d3-79a8-48e1-bac3-d5ad7b9c18a7",
   "metadata": {},
   "outputs": [],
   "source": [
    "v_a1_left, t_a1_left, v_a1_right, t_a1_right = gen_descendants(v_a1, 0, [])\n",
    "v_b1_left, t_b1_left, v_b1_right, t_b1_right = gen_descendants(v_b1, 0, [])"
   ]
  },
  {
   "cell_type": "code",
   "execution_count": 14,
   "id": "282d661f-f783-4d12-bf7a-2ce88d725755",
   "metadata": {},
   "outputs": [
    {
     "name": "stdout",
     "output_type": "stream",
     "text": [
      "1 1\n",
      "0 0\n"
     ]
    }
   ],
   "source": [
    "print(t_a1_left, t_b1_left)\n",
    "print(t_a1_right, t_b1_right)"
   ]
  },
  {
   "cell_type": "code",
   "execution_count": 15,
   "id": "97565a39-19ad-4877-aed5-a8fa7d95f532",
   "metadata": {},
   "outputs": [],
   "source": [
    "def find_cw_at_ith_level(i, v_a_i, t_a_i, v_b_i, t_b_i, p):\n",
    "    v_a1_left, t_a1_left, v_a1_right, t_a1_right = gen_descendants(v_a_i, 0, [])\n",
    "    v_b1_left, t_b1_left, v_b1_right, t_b1_right = gen_descendants(v_b_i, 0, [])\n",
    "    \n",
    "    #if t_a_i != t_b_i:\n",
    "    if True:\n",
    "        if p[i] == 0:\n",
    "            # will be added to left descendants\n",
    "            cw0 = bytes([0]*32)\n",
    "            cw1 = t_a1_left ^^ t_b1_left ^^ 1\n",
    "            \n",
    "            # will be added to right descendants\n",
    "            cw2 = bytes([v_a1_right[i] ^^ v_b1_right[i] for i in range(32)])\n",
    "            cw3 = t_a1_right ^^ t_b1_right\n",
    "    \n",
    "            cw = [cw0, cw1, cw2, cw3]\n",
    "    \n",
    "        if p[i] == 1:\n",
    "            # will be added to left descendants\n",
    "            cw0 = bytes([v_a1_left[i] ^^ v_b1_left[i] for i in range(32)])\n",
    "            cw1 = t_a1_left ^^ t_b1_left\n",
    "    \n",
    "            # will be added to right descendants\n",
    "            cw2 = bytes([0]*32)\n",
    "            cw3 = t_a1_right ^^ t_b1_right ^^ 1\n",
    "    \n",
    "            cw = [cw0, cw1, cw2, cw3]\n",
    "    \n",
    "    return cw "
   ]
  },
  {
   "cell_type": "code",
   "execution_count": 16,
   "id": "de12573b-f3de-451c-9add-387d2c3e5e4b",
   "metadata": {},
   "outputs": [
    {
     "data": {
      "text/plain": [
       "[b'\\x05\\xc7\\x19{\\r3p\\x94\\x86\\x1d\\xd9\\xab^\\x81\\x0c\\x93\\x13\\xe5\\xcf\\r\\xcbFX\\t\\xebk w\\xbca\\xbb\\x00',\n",
       " 0,\n",
       " b'\\x00\\x00\\x00\\x00\\x00\\x00\\x00\\x00\\x00\\x00\\x00\\x00\\x00\\x00\\x00\\x00\\x00\\x00\\x00\\x00\\x00\\x00\\x00\\x00\\x00\\x00\\x00\\x00\\x00\\x00\\x00\\x00',\n",
       " 1]"
      ]
     },
     "execution_count": 16,
     "metadata": {},
     "output_type": "execute_result"
    }
   ],
   "source": [
    "cw = find_cw_at_ith_level(0, v_a1, t_a1, v_b1, t_b1, p)\n",
    "cw"
   ]
  },
  {
   "cell_type": "code",
   "execution_count": 17,
   "id": "774182df-9482-4660-b452-6bf565a2e61e",
   "metadata": {},
   "outputs": [],
   "source": [
    "v_a1_left_, t_a1_left_, v_a1_right_, t_a1_right_ = gen_descendants(v_a1, t_a1, cw)\n",
    "v_b1_left_, t_b1_left_, v_b1_right_, t_b1_right_ = gen_descendants(v_b1, t_b1, cw)"
   ]
  },
  {
   "cell_type": "code",
   "execution_count": 18,
   "id": "06f22212-0c84-454e-a16b-687bc12cb544",
   "metadata": {},
   "outputs": [
    {
     "name": "stdout",
     "output_type": "stream",
     "text": [
      "b'\\xea\\x89-\\xae\\xf6\\xbb\\xcb\\xaf\\xc6\\x93F\\xff\\xba6\\xe3\\xe7\\xef\\x8f\\x91\\xbf\\xa9\\xe1Nw\\xa0`\\xac8t\\x99\\xcd:'\n",
      "1\n",
      "b'\\x8bQ\\x81\\x1835\\x03\\xa7\\x87\\x19\\xa9;\\xf7g\\xa2\\xf6X\\xbcG\\xca\\\\\\x96\\xa6\\xb6\\x84jP\\xf8Hy\\xccw'\n",
      "1\n"
     ]
    }
   ],
   "source": [
    "print(f'{v_a1_left_}\\n{t_a1_left_}\\n{v_a1_right_}\\n{t_a1_right_}')"
   ]
  },
  {
   "cell_type": "code",
   "execution_count": 19,
   "id": "2b76b111-b0a8-4749-924c-1300f123799d",
   "metadata": {},
   "outputs": [
    {
     "name": "stdout",
     "output_type": "stream",
     "text": [
      "b'\\xea\\x89-\\xae\\xf6\\xbb\\xcb\\xaf\\xc6\\x93F\\xff\\xba6\\xe3\\xe7\\xef\\x8f\\x91\\xbf\\xa9\\xe1Nw\\xa0`\\xac8t\\x99\\xcd:'\n",
      "1\n",
      "b'.!\\xd1c\\xf8W\\x9c5\\xe6\\xbf\\xfa\\xba5m\\xda\\x9c\\x1b_4Q\\xb8n\\x94\\x98~h\\\\\\xaeg^\\xcc\\xb9'\n",
      "0\n"
     ]
    }
   ],
   "source": [
    "print(f'{v_b1_left_}\\n{t_b1_left_}\\n{v_b1_right_}\\n{t_b1_right_}')"
   ]
  },
  {
   "cell_type": "code",
   "execution_count": 20,
   "id": "70a89888-c452-44e0-959f-f55e9cacd3ab",
   "metadata": {},
   "outputs": [
    {
     "data": {
      "text/plain": [
       "[[b'\\x04D2\\xab\\x06B\\x0f\\xbf\\xe6\\xca\\x0c\\xff\\xd7\\x93^\\xdbG\\xa5~\\xaaS;\\x0b\\x82\\xd1\\xe7\\x1bS/\\x14\\xec\\xa0',\n",
       "  1,\n",
       "  b'\\x00\\x00\\x00\\x00\\x00\\x00\\x00\\x00\\x00\\x00\\x00\\x00\\x00\\x00\\x00\\x00\\x00\\x00\\x00\\x00\\x00\\x00\\x00\\x00\\x00\\x00\\x00\\x00\\x00\\x00\\x00\\x00',\n",
       "  0],\n",
       " [b'\\x00\\x00\\x00\\x00\\x00\\x00\\x00\\x00\\x00\\x00\\x00\\x00\\x00\\x00\\x00\\x00\\x00\\x00\\x00\\x00\\x00\\x00\\x00\\x00\\x00\\x00\\x00\\x00\\x00\\x00\\x00\\x00',\n",
       "  1,\n",
       "  b'\\x11yY\\xd8f\\xd6\\x9d_\\xaa\\x84\\x84\\xc0\\x9fI\\xd4\\x85\\x83\\x05o\\xa8!\\x02PW\\r`JO\\xa1\\x07\\xc0\\xac',\n",
       "  0],\n",
       " [b'\\x00\\x00\\x00\\x00\\x00\\x00\\x00\\x00\\x00\\x00\\x00\\x00\\x00\\x00\\x00\\x00\\x00\\x00\\x00\\x00\\x00\\x00\\x00\\x00\\x00\\x00\\x00\\x00\\x00\\x00\\x00\\x00',\n",
       "  0,\n",
       "  b'\\xce\\x17\\xdcX\\x8eHP\\x84`d\\xfeq\\xbe\\x8e^K\\xf2m\\xd0\\xed\\xfd\\x86O;\\x1d\\x15\\xbe\\xd6\\xd9V\\xa4+',\n",
       "  1],\n",
       " [b'\\xe7\\x91[\\x8a\\xb2\\x9dQ_R=\\xa7\\xe5\\xef2\\xb2l\\x91\\xc4\\x108\\xb0[\\x9f0\\x1f\\x08*[S\\xf4\\xba\\xc8',\n",
       "  0,\n",
       "  b'\\x00\\x00\\x00\\x00\\x00\\x00\\x00\\x00\\x00\\x00\\x00\\x00\\x00\\x00\\x00\\x00\\x00\\x00\\x00\\x00\\x00\\x00\\x00\\x00\\x00\\x00\\x00\\x00\\x00\\x00\\x00\\x00',\n",
       "  1],\n",
       " [b'\\x00\\x00\\x00\\x00\\x00\\x00\\x00\\x00\\x00\\x00\\x00\\x00\\x00\\x00\\x00\\x00\\x00\\x00\\x00\\x00\\x00\\x00\\x00\\x00\\x00\\x00\\x00\\x00\\x00\\x00\\x00\\x00',\n",
       "  1,\n",
       "  b'ay\\x83s\\\\k\\xcbJ\\xb1\\xc9\\xdb\\x8a\\x8d\\x89b\\xc7\\xaa\\xe1\\xf3\\\\\\x80\\xf1\\xbb\\xdaw\\xe5\\xba\\xec\\x10\\x82\\xda\\xa2',\n",
       "  1]]"
      ]
     },
     "execution_count": 20,
     "metadata": {},
     "output_type": "execute_result"
    }
   ],
   "source": [
    "seed_a = secrets.token_bytes(32)\n",
    "v_a, t_a = gen_root(seed_a)\n",
    "\n",
    "seed_b = secrets.token_bytes(32)\n",
    "v_b, t_b = gen_root(seed_b)\n",
    "\n",
    "while t_a ^^ t_b != 1:\n",
    "    seed_b = secrets.token_bytes(32)\n",
    "    v_b, t_b = gen_root(seed_b)    \n",
    "\n",
    "CW = []\n",
    "\n",
    "for i in range(depth):\n",
    "    cw = find_cw_at_ith_level(i, v_a, t_a, v_b, t_b, p)\n",
    "    CW.append(cw)\n",
    "\n",
    "    v_a_left_, t_a_left_, v_a_right_, t_a_right_ = gen_descendants(v_a, t_a, cw)\n",
    "    v_b_left_, t_b_left_, v_b_right_, t_b_right_ = gen_descendants(v_b, t_b, cw)\n",
    "\n",
    "    if p[i] == 0:\n",
    "        v_a, t_a, v_b, t_b = v_a_left_, t_a_left_, v_b_left_, t_b_left_\n",
    "    else:\n",
    "        v_a, t_a, v_b, t_b = v_a_right_, t_a_right_, v_b_right_, t_b_right_\n",
    "\n",
    "CW"
   ]
  },
  {
   "cell_type": "code",
   "execution_count": 21,
   "id": "4052318c-f39e-4bbe-a488-7db20a4fc696",
   "metadata": {},
   "outputs": [],
   "source": [
    "def compute_at_i(seed, CW, i):\n",
    "    v, t = gen_root(seed)\n",
    "    p = path(i)\n",
    "    \n",
    "    for j in range(depth):\n",
    "        v_left_, t_left_, v_right_, t_right_ = gen_descendants(v, t, CW[j])\n",
    "        if p[j] == 0:\n",
    "            v, t = v_left_, t_left_\n",
    "        else:\n",
    "            v, t = v_right_, t_right_\n",
    "    \n",
    "    return t "
   ]
  },
  {
   "cell_type": "code",
   "execution_count": 22,
   "id": "f4ca2d48-4114-4d19-a876-fc7ff872ec98",
   "metadata": {},
   "outputs": [
    {
     "name": "stdout",
     "output_type": "stream",
     "text": [
      "i\ta\tb\ta ^^ b\n",
      "\n",
      "0\t1\t1\t0\n",
      "1\t1\t1\t0\n",
      "2\t1\t1\t0\n",
      "3\t1\t1\t0\n",
      "4\t1\t1\t0\n",
      "5\t1\t1\t0\n",
      "6\t0\t0\t0\n",
      "7\t1\t1\t0\n",
      "8\t1\t1\t0\n",
      "9\t0\t0\t0\n",
      "10\t1\t1\t0\n",
      "11\t1\t1\t0\n",
      "12\t0\t0\t0\n",
      "13\t1\t1\t0\n",
      "14\t1\t1\t0\n",
      "15\t1\t1\t0\n",
      "16\t0\t0\t0\n",
      "17\t0\t0\t0\n",
      "18\t1\t0\t1\n",
      "19\t0\t0\t0\n",
      "20\t1\t1\t0\n",
      "21\t0\t0\t0\n",
      "22\t0\t0\t0\n",
      "23\t0\t0\t0\n",
      "24\t1\t1\t0\n",
      "25\t1\t1\t0\n",
      "26\t0\t0\t0\n",
      "27\t0\t0\t0\n",
      "28\t0\t0\t0\n",
      "29\t1\t1\t0\n",
      "30\t0\t0\t0\n",
      "31\t1\t1\t0\n"
     ]
    }
   ],
   "source": [
    "print(f'i\\ta\\tb\\ta ^^ b')\n",
    "print()\n",
    "for i in range(N):\n",
    "    a = compute_at_i(seed_a, CW, i)\n",
    "    b = compute_at_i(seed_b, CW, i)\n",
    "    print(f'{i}\\t{a}\\t{b}\\t{a ^^ b}')"
   ]
  }
 ],
 "metadata": {
  "kernelspec": {
   "display_name": "SageMath 10.5.beta7",
   "language": "sage",
   "name": "sagemath-dev"
  },
  "language_info": {
   "codemirror_mode": {
    "name": "ipython",
    "version": 3
   },
   "file_extension": ".py",
   "mimetype": "text/x-python",
   "name": "python",
   "nbconvert_exporter": "python",
   "pygments_lexer": "ipython3",
   "version": "3.12.3"
  }
 },
 "nbformat": 4,
 "nbformat_minor": 5
}
