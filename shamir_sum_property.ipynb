{
 "cells": [
  {
   "cell_type": "code",
   "execution_count": 1,
   "id": "d4b88493-a934-418d-817f-693327bcab55",
   "metadata": {},
   "outputs": [],
   "source": [
    "# Shamir sum property"
   ]
  },
  {
   "cell_type": "code",
   "execution_count": 2,
   "id": "f2e6f0e9-c6c0-4b2a-8ec7-0679ede5a602",
   "metadata": {},
   "outputs": [],
   "source": [
    "F = GF(11)\n",
    "F_nonzero = [i for i in F if i != 0]\n",
    "P.<x> = F[]\n",
    "n = 5\n",
    "k = 3"
   ]
  },
  {
   "cell_type": "code",
   "execution_count": 3,
   "id": "820485e4-b1a2-4451-addf-1a9cd327d520",
   "metadata": {},
   "outputs": [],
   "source": [
    "def share(n, t, secret):\n",
    "    g = choice(F_nonzero)*x^(t-1) + sum([x^i*F.random_element() for i in range(1, t-1)]) + secret\n",
    "    print(g)\n",
    "    points = [g(i) for i in range (1, n+1)]\n",
    "    return points"
   ]
  },
  {
   "cell_type": "code",
   "execution_count": 4,
   "id": "de7d98c3-7c19-4791-bf5f-da5e522e5226",
   "metadata": {},
   "outputs": [],
   "source": [
    "def reconstruct(parties, shares):\n",
    "    g = P.lagrange_polynomial([(parties[i], shares[i]) for i in range (0, len(parties))])\n",
    "    print(g)\n",
    "    return g(0)"
   ]
  },
  {
   "cell_type": "code",
   "execution_count": 5,
   "id": "52e9421e-87c0-4bb9-afe8-95f92b2937fa",
   "metadata": {},
   "outputs": [],
   "source": [
    "secrets = [2, 3]"
   ]
  },
  {
   "cell_type": "code",
   "execution_count": 6,
   "id": "0886a426-1c95-4343-9169-119b78b6d50e",
   "metadata": {},
   "outputs": [
    {
     "name": "stdout",
     "output_type": "stream",
     "text": [
      "6*x^2 + 3*x + 2\n",
      "[0, 10, 10, 0, 2]\n",
      "9*x^2 + 3\n",
      "[1, 6, 7, 4, 8]\n",
      "4*x^2 + 3*x + 5\n",
      "[1, 5, 6, 4, 10]\n"
     ]
    }
   ],
   "source": [
    "points_a = share(n, k, secrets[0])\n",
    "print(points_a)\n",
    "points_b = share(n, k, secrets[1])\n",
    "print(points_b)\n",
    "points_a_plus_points_b = [points_a[i] + points_b[i] for i in range(0, n)]\n",
    "print(P.lagrange_polynomial([(i+1, points_a_plus_points_b[i]) for i in range(0, n)]))\n",
    "print(points_a_plus_points_b)"
   ]
  },
  {
   "cell_type": "code",
   "execution_count": 7,
   "id": "c481ac6d-d2cd-4e3e-944b-9e6a609f40dd",
   "metadata": {},
   "outputs": [
    {
     "name": "stdout",
     "output_type": "stream",
     "text": [
      "6*x^2 + 3*x + 5\n",
      "[3, 2, 2, 3, 5]\n"
     ]
    }
   ],
   "source": [
    "points_aplusb = share(n, k, secrets[0] + secrets[1])\n",
    "print((points_aplusb))"
   ]
  },
  {
   "cell_type": "code",
   "execution_count": 8,
   "id": "c45a6718-38d0-440b-bc52-41f18ae24fb3",
   "metadata": {},
   "outputs": [
    {
     "name": "stdout",
     "output_type": "stream",
     "text": [
      "4*x^2 + 3*x + 5\n",
      "6*x^2 + 3*x + 5\n"
     ]
    },
    {
     "data": {
      "text/plain": [
       "5"
      ]
     },
     "execution_count": 8,
     "metadata": {},
     "output_type": "execute_result"
    }
   ],
   "source": [
    "reconstruct([*range(1, 4)], points_a_plus_points_b[:3])\n",
    "reconstruct([*range(1, 4)], points_aplusb[:3])"
   ]
  }
 ],
 "metadata": {
  "kernelspec": {
   "display_name": "SageMath 10.5.beta7",
   "language": "sage",
   "name": "sagemath-dev"
  },
  "language_info": {
   "codemirror_mode": {
    "name": "ipython",
    "version": 3
   },
   "file_extension": ".py",
   "mimetype": "text/x-python",
   "name": "python",
   "nbconvert_exporter": "python",
   "pygments_lexer": "ipython3",
   "version": "3.12.3"
  }
 },
 "nbformat": 4,
 "nbformat_minor": 5
}
