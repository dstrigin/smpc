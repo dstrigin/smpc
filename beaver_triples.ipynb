{
 "cells": [
  {
   "cell_type": "code",
   "execution_count": 1,
   "id": "383bbc02-1ad2-4baf-ade5-70e56555b1f0",
   "metadata": {},
   "outputs": [],
   "source": [
    "# Beaver triples"
   ]
  },
  {
   "cell_type": "code",
   "execution_count": 2,
   "id": "d7d82ecb-5fad-46c8-875a-f93f262d2946",
   "metadata": {},
   "outputs": [],
   "source": [
    "F = GF(23)\n",
    "F_nonzero = [i for i in F if i != 0]\n",
    "P.<x> = F[]"
   ]
  },
  {
   "cell_type": "code",
   "execution_count": 3,
   "id": "762fee25-77d5-4934-9168-614b38554634",
   "metadata": {},
   "outputs": [],
   "source": [
    "# Take triple (a, b, c) such that c = a * b\n",
    "a = 3\n",
    "b = 7\n",
    "c = a * b"
   ]
  },
  {
   "cell_type": "code",
   "execution_count": 4,
   "id": "06d77a37-d119-4165-a2a1-e13907f2addc",
   "metadata": {},
   "outputs": [
    {
     "name": "stdout",
     "output_type": "stream",
     "text": [
      "22\n"
     ]
    }
   ],
   "source": [
    "# Take two secret values\n",
    "aa = 6\n",
    "bb = 19\n",
    "# We'd like to know the result of aa * bb in field F, which is\n",
    "res = F(aa * bb)\n",
    "print(res)"
   ]
  },
  {
   "cell_type": "code",
   "execution_count": 5,
   "id": "2396ecbe-9efe-4dd1-b5c8-050c61682a21",
   "metadata": {},
   "outputs": [],
   "source": [
    "# Decide on number of parties\n",
    "n = 4\n",
    "k = 4"
   ]
  },
  {
   "cell_type": "code",
   "execution_count": 6,
   "id": "ba988440-5933-425c-8405-c56e43451bb0",
   "metadata": {},
   "outputs": [],
   "source": [
    "def share(n, t, secret):\n",
    "    g = choice(F_nonzero)*x^(t-1) + sum([x^i*F.random_element() for i in range(1, t-1)]) + secret\n",
    "    print(g)\n",
    "    points = [g(i) for i in range (1, n+1)]\n",
    "    return points"
   ]
  },
  {
   "cell_type": "code",
   "execution_count": 7,
   "id": "27f23d24-18fd-432e-934a-de255b0f5030",
   "metadata": {},
   "outputs": [],
   "source": [
    "def reconstruct(parties, shares):\n",
    "    g = P.lagrange_polynomial([(parties[i], shares[i]) for i in range (0, len(parties))])\n",
    "    print(g)\n",
    "    return g(0)"
   ]
  },
  {
   "cell_type": "code",
   "execution_count": 8,
   "id": "4663775e-e206-4f6d-bb25-c32a1060d046",
   "metadata": {},
   "outputs": [
    {
     "name": "stdout",
     "output_type": "stream",
     "text": [
      "3*x^3 + 20*x^2 + 3\n",
      "[3, 15, 11, 9]\n",
      "8*x^3 + 20*x^2 + 10*x + 7\n",
      "[22, 10, 19, 5]\n",
      "10*x^3 + 8*x^2 + 11*x + 21\n",
      "[4, 17, 5, 5]\n"
     ]
    }
   ],
   "source": [
    "# Share triple\n",
    "a_shares = share(n, k, a)\n",
    "print(a_shares)\n",
    "b_shares = share(n, k, b)\n",
    "print(b_shares)\n",
    "c_shares = share(n, k, c)\n",
    "print(c_shares)"
   ]
  },
  {
   "cell_type": "code",
   "execution_count": 9,
   "id": "8b687153-e35c-4d37-b0cc-c042fe27ad1e",
   "metadata": {},
   "outputs": [
    {
     "name": "stdout",
     "output_type": "stream",
     "text": [
      "10*x^3 + 4*x^2 + 3*x + 6\n",
      "[0, 16, 22, 9]\n",
      "3*x^3 + 13*x^2 + 19\n",
      "[12, 3, 10, 5]\n"
     ]
    }
   ],
   "source": [
    "# Share secret values\n",
    "aa_shares = share(n, k, aa)\n",
    "print(aa_shares)\n",
    "bb_shares = share(n, k, bb)\n",
    "print(bb_shares)"
   ]
  },
  {
   "cell_type": "code",
   "execution_count": 10,
   "id": "85e5ef94-b63b-4de5-8abf-788a6fc3ee77",
   "metadata": {},
   "outputs": [
    {
     "name": "stdout",
     "output_type": "stream",
     "text": [
      "[20, 1, 11, 0]\n",
      "7*x^3 + 7*x^2 + 3*x + 3\n",
      "3\n"
     ]
    }
   ],
   "source": [
    "# Compute d = aa - a locally\n",
    "d_shares = [(aa_shares[i] - a_shares[i]) for i in range(0, n)]\n",
    "print(d_shares)\n",
    "# Open d\n",
    "d = reconstruct([*range(1, n + 1)], d_shares)\n",
    "print(d)"
   ]
  },
  {
   "cell_type": "code",
   "execution_count": 11,
   "id": "a4d1b6fe-c736-4390-ba5b-8ed0fcb87a0b",
   "metadata": {},
   "outputs": [
    {
     "name": "stdout",
     "output_type": "stream",
     "text": [
      "[13, 16, 14, 0]\n",
      "18*x^3 + 16*x^2 + 13*x + 12\n",
      "12\n"
     ]
    }
   ],
   "source": [
    "# Compute e = bb - b locally\n",
    "e_shares = [(bb_shares[i] - b_shares[i]) for i in range(0, n)]\n",
    "print(e_shares)\n",
    "# Open e\n",
    "e = reconstruct([*range(1, n + 1)], e_shares)\n",
    "print(e)"
   ]
  },
  {
   "cell_type": "code",
   "execution_count": 12,
   "id": "b0adf1a5-6526-4973-841b-4773b9bae22d",
   "metadata": {},
   "outputs": [
    {
     "name": "stdout",
     "output_type": "stream",
     "text": [
      "[4, 10, 0, 3]\n",
      "x^3 + 9*x^2 + 18*x + 22\n",
      "22\n"
     ]
    }
   ],
   "source": [
    "# Get shares of desired result aa * bb \n",
    "aabb_shares = [(F(d*e + d*b_shares[i] + e*a_shares[i] + c_shares[i])) for i in range(0, n)]\n",
    "print(aabb_shares)\n",
    "# Reconstruct the value\n",
    "aabb = reconstruct([*range(1, n + 1)], aabb_shares)\n",
    "print(aabb)"
   ]
  },
  {
   "cell_type": "code",
   "execution_count": null,
   "id": "c282bb86-0ace-45c9-a892-37a4d3c75f4f",
   "metadata": {},
   "outputs": [],
   "source": []
  }
 ],
 "metadata": {
  "kernelspec": {
   "display_name": "SageMath 10.5.beta7",
   "language": "sage",
   "name": "sagemath-dev"
  },
  "language_info": {
   "codemirror_mode": {
    "name": "ipython",
    "version": 3
   },
   "file_extension": ".py",
   "mimetype": "text/x-python",
   "name": "python",
   "nbconvert_exporter": "python",
   "pygments_lexer": "ipython3",
   "version": "3.12.3"
  }
 },
 "nbformat": 4,
 "nbformat_minor": 5
}
