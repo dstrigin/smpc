{
 "cells": [
  {
   "cell_type": "markdown",
   "id": "35bb0c9a-abdb-44cc-a82d-0011638ccf48",
   "metadata": {},
   "source": [
    "# OLE\n",
    "Рассмотрим OLE - четверку чисел (U, V, X, Y) такую, что \n",
    "\n",
    "$U * V = X + Y$\n",
    "\n",
    "Это мощный вспомогательный инструмент, так как он позволяет получать мультипликативные тройки из двух своих экземпляров. Рассмотрим ниже"
   ]
  },
  {
   "cell_type": "code",
   "execution_count": 1,
   "id": "8f585731-3cb1-4917-bbe3-4dd76800b55f",
   "metadata": {},
   "outputs": [],
   "source": [
    "F = GF(23)"
   ]
  },
  {
   "cell_type": "code",
   "execution_count": 2,
   "id": "82a78a9f-9f07-47bb-b2d2-f7e8f9be1d2e",
   "metadata": {},
   "outputs": [],
   "source": [
    "# Alice's part\n",
    "X1 = 16 \n",
    "X2 = 8\n",
    "U1 = 14\n",
    "U2 = 2\n",
    "\n",
    "# Bob's part\n",
    "Y1 = 12\n",
    "Y2 = 11\n",
    "V1 = 2\n",
    "V2 = 21"
   ]
  },
  {
   "cell_type": "code",
   "execution_count": 3,
   "id": "2833a26c-6c9e-4853-b18a-f1747a093359",
   "metadata": {},
   "outputs": [
    {
     "data": {
      "text/plain": [
       "True"
      ]
     },
     "execution_count": 3,
     "metadata": {},
     "output_type": "execute_result"
    }
   ],
   "source": [
    "F(X1 + Y1) == F(U1 * V1)"
   ]
  },
  {
   "cell_type": "code",
   "execution_count": 4,
   "id": "820c1652-e30a-4237-b0a4-a9dadc1ba5e7",
   "metadata": {},
   "outputs": [
    {
     "data": {
      "text/plain": [
       "True"
      ]
     },
     "execution_count": 4,
     "metadata": {},
     "output_type": "execute_result"
    }
   ],
   "source": [
    "F(X2 + Y2) == F(U2 * V2)"
   ]
  },
  {
   "cell_type": "code",
   "execution_count": 5,
   "id": "93fb2329-d678-41b1-af9b-08c4487f3c0e",
   "metadata": {},
   "outputs": [
    {
     "data": {
      "text/plain": [
       "6"
      ]
     },
     "execution_count": 5,
     "metadata": {},
     "output_type": "execute_result"
    }
   ],
   "source": [
    "# Computed by Alice locally \n",
    "C_A = F(X1 + U1*U2 + X2)\n",
    "C_A"
   ]
  },
  {
   "cell_type": "code",
   "execution_count": 6,
   "id": "bab90d08-5c3a-4083-be56-1be9b9264475",
   "metadata": {},
   "outputs": [
    {
     "data": {
      "text/plain": [
       "19"
      ]
     },
     "execution_count": 6,
     "metadata": {},
     "output_type": "execute_result"
    }
   ],
   "source": [
    "# Computed by Bob locally \n",
    "C_B = F(Y1 + V1*V2 + Y2)\n",
    "C_B"
   ]
  },
  {
   "cell_type": "code",
   "execution_count": 7,
   "id": "6b295a92-7352-44f1-9e35-e58833513ded",
   "metadata": {},
   "outputs": [
    {
     "data": {
      "text/plain": [
       "True"
      ]
     },
     "execution_count": 7,
     "metadata": {},
     "output_type": "execute_result"
    }
   ],
   "source": [
    "# Define C\n",
    "C_def = F(C_A + C_B)\n",
    "C_fact = F((U1 + V2)*(U2 + V1))\n",
    "\n",
    "C_def == C_fact"
   ]
  },
  {
   "cell_type": "markdown",
   "id": "e9b6f35e-53bb-417a-bc6d-42783a358769",
   "metadata": {},
   "source": [
    "Сейчас введем обозначения\n",
    "\n",
    "$A = (U_1 + V_2)$\n",
    "\n",
    "$B = (U_2 + V_1)$\n",
    "\n",
    "Получим $C = A*B$ - мультипликативная тройка. Доли $A$ -- $U_1$ у Алисы и $V_2$ у Боба, соответственно доли $B$ -- $U_2$ у Алисы и $V_1$ у Боба, а доли $C$ -- $C_A$, $C_B$"
   ]
  },
  {
   "cell_type": "markdown",
   "id": "56d1138a-d07b-4f23-aa8d-e59ebf1fcd15",
   "metadata": {},
   "source": [
    "Рассмотрим как это поможет при умножении в протоколе *MPC* для, например, чисел 7 и 11 и двух участников"
   ]
  },
  {
   "cell_type": "code",
   "execution_count": 8,
   "id": "17150fa0-bab3-4b06-9062-6559d2b6f73c",
   "metadata": {},
   "outputs": [
    {
     "data": {
      "text/plain": [
       "8"
      ]
     },
     "execution_count": 8,
     "metadata": {},
     "output_type": "execute_result"
    }
   ],
   "source": [
    "alpha = 7\n",
    "beta = 11\n",
    "res = F(alpha * beta)\n",
    "res"
   ]
  },
  {
   "cell_type": "markdown",
   "id": "d7cae694-d1de-4e54-8330-5ce5f9710a92",
   "metadata": {},
   "source": [
    "Переобозначим для удобства"
   ]
  },
  {
   "cell_type": "code",
   "execution_count": 9,
   "id": "c249b5b1-20d8-4ddb-8e4f-2f2fd7098642",
   "metadata": {},
   "outputs": [],
   "source": [
    "a_A = U1\n",
    "a_B = V2\n",
    "\n",
    "b_A = U2\n",
    "b_B = V1\n",
    "\n",
    "c_A = C_A\n",
    "c_B = C_B\n",
    "c = c_A + c_B"
   ]
  },
  {
   "cell_type": "markdown",
   "id": "89743a95-5056-4e0e-b739-72aa94bc4cb3",
   "metadata": {},
   "source": [
    "Будем использовать примитивную схему разделения секрета"
   ]
  },
  {
   "cell_type": "code",
   "execution_count": 10,
   "id": "1124062e-51ab-4a79-adb6-b9393d0187ee",
   "metadata": {},
   "outputs": [],
   "source": [
    "alpha_A = 3\n",
    "alpha_B = 4\n",
    "\n",
    "beta_A = 9\n",
    "beta_B = 2"
   ]
  },
  {
   "cell_type": "markdown",
   "id": "b1e6fbf8-40fd-48f9-9d19-170125d9ab63",
   "metadata": {},
   "source": [
    "Как и в описании троек Бивера, вычислим $d = \\alpha - a$ и $e = \\beta - b$"
   ]
  },
  {
   "cell_type": "code",
   "execution_count": 11,
   "id": "4e011809-8b95-4228-b26b-85f3b61ad2d4",
   "metadata": {},
   "outputs": [
    {
     "name": "stdout",
     "output_type": "stream",
     "text": [
      "18\n"
     ]
    }
   ],
   "source": [
    "d_A = F(alpha_A - a_A)\n",
    "d_B = F(alpha_B - a_B)\n",
    "\n",
    "d = F(d_A + d_B)\n",
    "print(d)"
   ]
  },
  {
   "cell_type": "code",
   "execution_count": 12,
   "id": "9154632e-ad97-43be-b952-b0f0c91a9517",
   "metadata": {},
   "outputs": [
    {
     "data": {
      "text/plain": [
       "7"
      ]
     },
     "execution_count": 12,
     "metadata": {},
     "output_type": "execute_result"
    }
   ],
   "source": [
    "e_A = F(beta_A - b_A)\n",
    "e_B = F(beta_B - b_B)\n",
    "\n",
    "e = F(e_A + e_B)\n",
    "e"
   ]
  },
  {
   "cell_type": "code",
   "execution_count": 13,
   "id": "b96c178b-4527-4fdb-99ae-5fbff38b7fff",
   "metadata": {},
   "outputs": [
    {
     "data": {
      "text/plain": [
       "8"
      ]
     },
     "execution_count": 13,
     "metadata": {},
     "output_type": "execute_result"
    }
   ],
   "source": [
    "# We must get\n",
    "a = a_A + a_B\n",
    "b = b_A + b_B\n",
    "\n",
    "d*e + d*b + e*a + c"
   ]
  },
  {
   "cell_type": "markdown",
   "id": "f72e145e-0f79-4519-8a11-dcfb24d5ff79",
   "metadata": {},
   "source": [
    "$d$ и $e$ -- открыты, доли остальных значений у нас на руках. Значит, можем вычислить доли искомого значения"
   ]
  },
  {
   "cell_type": "code",
   "execution_count": 14,
   "id": "c24d9d79-76e6-4f7d-b667-f2be333dd61e",
   "metadata": {},
   "outputs": [
    {
     "data": {
      "text/plain": [
       "9"
      ]
     },
     "execution_count": 14,
     "metadata": {},
     "output_type": "execute_result"
    }
   ],
   "source": [
    "res_A = F(d*e + d*b_A + e*a_A + c)\n",
    "res_A"
   ]
  },
  {
   "cell_type": "code",
   "execution_count": 15,
   "id": "c346067c-f25f-4b1c-9a0d-040d2e439c58",
   "metadata": {},
   "outputs": [
    {
     "data": {
      "text/plain": [
       "12"
      ]
     },
     "execution_count": 15,
     "metadata": {},
     "output_type": "execute_result"
    }
   ],
   "source": [
    "res_B = F(d*e + d*b_B + e*a_B + c)\n",
    "res_B"
   ]
  },
  {
   "cell_type": "markdown",
   "id": "16fbe524-835f-46bf-95c5-235106b95b0a",
   "metadata": {},
   "source": [
    "Сложив доли мы получим \n",
    "\n",
    "$d*e + d*e + d*b_B + d*b_A + e*a_B + e*a_A + c + c$\n",
    "\n",
    "То есть, в выражении присутствуют лишние слагаемые. Для корректного результата отбросим их"
   ]
  },
  {
   "cell_type": "code",
   "execution_count": 16,
   "id": "c544c9f9-9ea2-4e5c-b15e-1a98354a2bb9",
   "metadata": {},
   "outputs": [
    {
     "data": {
      "text/plain": [
       "8"
      ]
     },
     "execution_count": 16,
     "metadata": {},
     "output_type": "execute_result"
    }
   ],
   "source": [
    "res_beaver = res_A + res_B - d*e - c\n",
    "res_beaver"
   ]
  },
  {
   "cell_type": "code",
   "execution_count": 17,
   "id": "b37da68e-1dc0-4161-86bd-ea2d485c9fc9",
   "metadata": {},
   "outputs": [
    {
     "data": {
      "text/plain": [
       "True"
      ]
     },
     "execution_count": 17,
     "metadata": {},
     "output_type": "execute_result"
    }
   ],
   "source": [
    "res_beaver == res"
   ]
  }
 ],
 "metadata": {
  "kernelspec": {
   "display_name": "SageMath 10.5.beta7",
   "language": "sage",
   "name": "sagemath-dev"
  },
  "language_info": {
   "codemirror_mode": {
    "name": "ipython",
    "version": 3
   },
   "file_extension": ".py",
   "mimetype": "text/x-python",
   "name": "python",
   "nbconvert_exporter": "python",
   "pygments_lexer": "ipython3",
   "version": "3.12.3"
  }
 },
 "nbformat": 4,
 "nbformat_minor": 5
}
